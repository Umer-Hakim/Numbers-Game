{
 "cells": [
  {
   "cell_type": "code",
   "execution_count": null,
   "id": "b474bca7-58b5-40c1-ab55-7d6db61e8ccf",
   "metadata": {},
   "outputs": [],
   "source": []
  }
 ],
 "metadata": {
  "kernelspec": {
   "display_name": "",
   "name": ""
  },
  "language_info": {
   "name": ""
  }
 },
 "nbformat": 4,
 "nbformat_minor": 5
}
